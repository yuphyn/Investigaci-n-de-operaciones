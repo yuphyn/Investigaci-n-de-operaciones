{
 "cells": [
  {
   "cell_type": "code",
   "execution_count": 15,
   "metadata": {
    "scrolled": false
   },
   "outputs": [
    {
     "data": {
      "text/plain": [
       " Sexo    Horas.Estudio.Semanal      VTR            Tiempo.Libre      Carrete   \n",
       " F:501   <2 hr  :266           Min.   :0.0000   Demasiado: 89   Demasiado:137  \n",
       " M:369   >10 hr : 59           1st Qu.:0.0000   Mucho    :237   Mucho    :188  \n",
       "         2-5 hr :409           Median :0.0000   Nada     : 61   Nada     : 62  \n",
       "         5-10 hr:136           Mean   :0.2057   Normal   :330   Normal   :272  \n",
       "                               3rd Qu.:0.0000   Poco     :153   Poco     :211  \n",
       "                               Max.   :2.0000                                  \n",
       "        Salud     Inasistencias    Nota.Final\n",
       " Buena     :148   Min.   : 0.000   <55 :325  \n",
       " Muy Buena :306   1st Qu.: 2.000   >=55:545  \n",
       " Muy Mala  :121   Median : 3.000             \n",
       " Normal    :190   Mean   : 3.863             \n",
       " Suficiente:105   3rd Qu.: 6.000             \n",
       "                  Max.   :10.000             "
      ]
     },
     "metadata": {},
     "output_type": "display_data"
    }
   ],
   "source": [
    "#lectura de archivo\n",
    "data <- read.csv(file=\"DatosInforme19.csv\",head=TRUE,sep=\";\")\n",
    "#Muestra la data\n",
    "#data\n",
    "# Resumen estadistico\n",
    "summary(data)"
   ]
  },
  {
   "cell_type": "code",
   "execution_count": 27,
   "metadata": {
    "scrolled": true
   },
   "outputs": [
    {
     "data": {
      "text/html": [
       "<ol class=list-inline>\n",
       "\t<li>724</li>\n",
       "\t<li>8</li>\n",
       "</ol>\n"
      ],
      "text/latex": [
       "\\begin{enumerate*}\n",
       "\\item 724\n",
       "\\item 8\n",
       "\\end{enumerate*}\n"
      ],
      "text/markdown": [
       "1. 724\n",
       "2. 8\n",
       "\n",
       "\n"
      ],
      "text/plain": [
       "[1] 724   8"
      ]
     },
     "metadata": {},
     "output_type": "display_data"
    },
    {
     "data": {
      "image/png": "[encoded data removed]",
      "text/plain": [
       "Plot with title \"Cantidad de hombres y mujeres\""
      ]
     },
     "metadata": {},
     "output_type": "display_data"
    }
   ],
   "source": [
    "#Grafico de barras\n",
    "barplot(table(data$Sexo),main=\"Cantidad de hombres y mujeres\")\n",
    "#Encontar cantidad de 0 en vtr\n",
    "vtr0 <- subset(data, VTR == 0, )  #crea un data fram solo con los valores 0\n",
    "dim(vtr0) #Dimenciones de data frame\n",
    "\n",
    "               "
   ]
  },
  {
   "cell_type": "code",
   "execution_count": 135,
   "metadata": {},
   "outputs": [
    {
     "name": "stdout",
     "output_type": "stream",
     "text": [
      "[1] \"Forma conpacta de la data antes de discretizar\"\n",
      "'data.frame':\t870 obs. of  8 variables:\n",
      " $ Sexo                 : Factor w/ 2 levels \"F\",\"M\": 1 1 1 1 2 2 1 2 2 1 ...\n",
      " $ Horas.Estudio.Semanal: Factor w/ 4 levels \"<2 hr\",\">10 hr\",..: 3 3 4 3 3 3 3 3 3 3 ...\n",
      " $ VTR                  : Factor w/ 3 levels \"0\",\"1\",\"2\": 1 1 1 1 1 1 1 1 1 1 ...\n",
      " $ Tiempo.Libre         : Factor w/ 5 levels \"Demasiado\",\"Mucho\",..: 4 4 5 4 2 2 3 5 1 4 ...\n",
      " $ Carrete              : Factor w/ 5 levels \"Demasiado\",\"Mucho\",..: 2 4 5 5 5 2 2 5 3 4 ...\n",
      " $ Salud                : Factor w/ 5 levels \"Buena\",\"Muy Buena\",..: 4 4 2 2 2 4 3 3 2 5 ...\n",
      " $ Inasistencias        : Factor w/ 11 levels \"0\",\"1\",\"2\",\"3\",..: 7 5 3 5 3 5 7 2 4 1 ...\n",
      " $ Nota.Final           : Factor w/ 2 levels \"<55\",\">=55\": 1 1 2 1 2 2 1 2 2 1 ...\n",
      "[1] \"Forma conpacta de la data despues de discretizar\"\n",
      "'data.frame':\t870 obs. of  8 variables:\n",
      " $ Sexo                 : Factor w/ 2 levels \"F\",\"M\": 1 1 1 1 2 2 1 2 2 1 ...\n",
      " $ Horas.Estudio.Semanal: Factor w/ 4 levels \"<2 hr\",\">10 hr\",..: 3 3 4 3 3 3 3 3 3 3 ...\n",
      " $ VTR                  : Factor w/ 3 levels \"0\",\"1\",\"2\": 1 1 1 1 1 1 1 1 1 1 ...\n",
      " $ Tiempo.Libre         : Factor w/ 5 levels \"Demasiado\",\"Mucho\",..: 4 4 5 4 2 2 3 5 1 4 ...\n",
      " $ Carrete              : Factor w/ 5 levels \"Demasiado\",\"Mucho\",..: 2 4 5 5 5 2 2 5 3 4 ...\n",
      " $ Salud                : Factor w/ 5 levels \"Buena\",\"Muy Buena\",..: 4 4 2 2 2 4 3 3 2 5 ...\n",
      " $ Inasistencias        : Factor w/ 11 levels \"0\",\"1\",\"2\",\"3\",..: 7 5 3 5 3 5 7 2 4 1 ...\n",
      " $ Nota.Final           : Factor w/ 2 levels \"<55\",\">=55\": 1 1 2 1 2 2 1 2 2 1 ...\n"
     ]
    }
   ],
   "source": [
    "print(\"Forma conpacta de la data antes de discretizar\")\n",
    "str(data)\n",
    "#Discretizar variables\n",
    "data$Inasistencias = as.factor(data$Inasistencias)\n",
    "data$VTR = as.factor(data$VTR)\n",
    "print(\"Forma conpacta de la data despues de discretizar\")\n",
    "str(data)"
   ]
  },
  {
   "cell_type": "code",
   "execution_count": 184,
   "metadata": {},
   "outputs": [
    {
     "name": "stdout",
     "output_type": "stream",
     "text": [
      "[1] \"Dimensiones data completa\"\n"
     ]
    },
    {
     "data": {
      "text/html": [
       "<ol class=list-inline>\n",
       "\t<li>870</li>\n",
       "\t<li>8</li>\n",
       "</ol>\n"
      ],
      "text/latex": [
       "\\begin{enumerate*}\n",
       "\\item 870\n",
       "\\item 8\n",
       "\\end{enumerate*}\n"
      ],
      "text/markdown": [
       "1. 870\n",
       "2. 8\n",
       "\n",
       "\n"
      ],
      "text/plain": [
       "[1] 870   8"
      ]
     },
     "metadata": {},
     "output_type": "display_data"
    },
    {
     "name": "stdout",
     "output_type": "stream",
     "text": [
      "[1] \"Dimensiones data train\"\n"
     ]
    },
    {
     "data": {
      "text/html": [
       "<ol class=list-inline>\n",
       "\t<li>609</li>\n",
       "\t<li>8</li>\n",
       "</ol>\n"
      ],
      "text/latex": [
       "\\begin{enumerate*}\n",
       "\\item 609\n",
       "\\item 8\n",
       "\\end{enumerate*}\n"
      ],
      "text/markdown": [
       "1. 609\n",
       "2. 8\n",
       "\n",
       "\n"
      ],
      "text/plain": [
       "[1] 609   8"
      ]
     },
     "metadata": {},
     "output_type": "display_data"
    },
    {
     "name": "stdout",
     "output_type": "stream",
     "text": [
      "[1] \"Dimensiones data test\"\n"
     ]
    },
    {
     "data": {
      "text/html": [
       "<ol class=list-inline>\n",
       "\t<li>261</li>\n",
       "\t<li>8</li>\n",
       "</ol>\n"
      ],
      "text/latex": [
       "\\begin{enumerate*}\n",
       "\\item 261\n",
       "\\item 8\n",
       "\\end{enumerate*}\n"
      ],
      "text/markdown": [
       "1. 261\n",
       "2. 8\n",
       "\n",
       "\n"
      ],
      "text/plain": [
       "[1] 261   8"
      ]
     },
     "metadata": {},
     "output_type": "display_data"
    }
   ],
   "source": [
    "# Creacion Conjuntos para usar en el árbol de clasificacíon\n",
    "#Librerias\n",
    "library(tidyverse)\n",
    "# Creacion data entrenamiento\n",
    "set.seed(7)\n",
    "data_train <- sample_frac(data, .7) #Al 80%\n",
    "# Creacion data test\n",
    "data_test <- setdiff(data, data_train)\n",
    "#Muestra la cantidad de registros en cada conjunto de datos\n",
    "print(\"Dimensiones data completa\")\n",
    "dim(data)\n",
    "print(\"Dimensiones data train\")\n",
    "dim(data_train)\n",
    "print(\"Dimensiones data test\")\n",
    "dim(data_test)"
   ]
  },
  {
   "cell_type": "code",
   "execution_count": 185,
   "metadata": {},
   "outputs": [
    {
     "data": {
      "image/png": "[encoded data removed]",
      "text/plain": [
       "plot without title"
      ]
     },
     "metadata": {},
     "output_type": "display_data"
    }
   ],
   "source": [
    "#import libreria\n",
    "library(tree)\n",
    "#Arbol creado usando libreria tree\n",
    "mytree <- tree(\n",
    "  Nota.Final ~ Sexo + Horas.Estudio.Semanal + VTR + Tiempo.Libre + Carrete + Salud + Inasistencias, \n",
    "  data = data_train, \n",
    "  method = \"class\", \n",
    ")\n",
    "#Mostrar plot del arbol creado\n",
    "plot(mytree)\n",
    "text(mytree, pretty = 1)\n"
   ]
  },
  {
   "cell_type": "code",
   "execution_count": 186,
   "metadata": {
    "scrolled": true
   },
   "outputs": [],
   "source": [
    "#Import libreria\n",
    "library(rpart)\n",
    "library(rattle)\n",
    "library(rpart.plot)\n",
    "library(RColorBrewer)\n",
    "#Arbol creado usando libreria rpart\n",
    "mytree2 <- rpart(\n",
    "  Nota.Final ~., \n",
    "  data = data_train, \n",
    "  method = \"class\", \n",
    ")"
   ]
  },
  {
   "cell_type": "code",
   "execution_count": 187,
   "metadata": {},
   "outputs": [
    {
     "data": {
      "image/png": "[encoded data removed]",
      "text/plain": [
       "Plot with title \"\""
      ]
     },
     "metadata": {},
     "output_type": "display_data"
    }
   ],
   "source": [
    "# plot mytree2\n",
    "fancyRpartPlot(mytree2, caption = NULL)"
   ]
  },
  {
   "cell_type": "code",
   "execution_count": 188,
   "metadata": {},
   "outputs": [
    {
     "data": {
      "text/plain": [
       "Confusion Matrix and Statistics\n",
       "\n",
       "          Reference\n",
       "Prediction <55 >=55\n",
       "      <55   46   26\n",
       "      >=55  47  142\n",
       "                                          \n",
       "               Accuracy : 0.7203          \n",
       "                 95% CI : (0.6616, 0.7739)\n",
       "    No Information Rate : 0.6437          \n",
       "    P-Value [Acc > NIR] : 0.005236        \n",
       "                                          \n",
       "                  Kappa : 0.3579          \n",
       "                                          \n",
       " Mcnemar's Test P-Value : 0.019241        \n",
       "                                          \n",
       "            Sensitivity : 0.4946          \n",
       "            Specificity : 0.8452          \n",
       "         Pos Pred Value : 0.6389          \n",
       "         Neg Pred Value : 0.7513          \n",
       "             Prevalence : 0.3563          \n",
       "         Detection Rate : 0.1762          \n",
       "   Detection Prevalence : 0.2759          \n",
       "      Balanced Accuracy : 0.6699          \n",
       "                                          \n",
       "       'Positive' Class : <55             \n",
       "                                          "
      ]
     },
     "metadata": {},
     "output_type": "display_data"
    },
    {
     "data": {
      "text/plain": [
       "Confusion Matrix and Statistics\n",
       "\n",
       "          Reference\n",
       "Prediction <55 >=55\n",
       "      <55   35   11\n",
       "      >=55  58  157\n",
       "                                          \n",
       "               Accuracy : 0.7356          \n",
       "                 95% CI : (0.6777, 0.7881)\n",
       "    No Information Rate : 0.6437          \n",
       "    P-Value [Acc > NIR] : 0.000967        \n",
       "                                          \n",
       "                  Kappa : 0.3504          \n",
       "                                          \n",
       " Mcnemar's Test P-Value : 3.064e-08       \n",
       "                                          \n",
       "            Sensitivity : 0.3763          \n",
       "            Specificity : 0.9345          \n",
       "         Pos Pred Value : 0.7609          \n",
       "         Neg Pred Value : 0.7302          \n",
       "             Prevalence : 0.3563          \n",
       "         Detection Rate : 0.1341          \n",
       "   Detection Prevalence : 0.1762          \n",
       "      Balanced Accuracy : 0.6554          \n",
       "                                          \n",
       "       'Positive' Class : <55             \n",
       "                                          "
      ]
     },
     "metadata": {},
     "output_type": "display_data"
    }
   ],
   "source": [
    "#Calculo precision de modelos.\n",
    "#Arbol con Rpart\n",
    "library(caret)\n",
    "prediccion_1 <- predict(mytree2, newdata = data_test, type = \"class\")\n",
    "confusionMatrix(prediccion_1, data_test[[\"Nota.Final\"]])\n",
    "#Arbol con Tree\n",
    "prediccion_2 <- predict(mytree, newdata = data_test, type = \"class\")\n",
    "confusionMatrix(prediccion_2, data_test[[\"Nota.Final\"]])"
   ]
  },
  {
   "cell_type": "code",
   "execution_count": 189,
   "metadata": {},
   "outputs": [
    {
     "data": {
      "text/plain": [
       "Confusion Matrix and Statistics\n",
       "\n",
       "          Reference\n",
       "Prediction <55 >=55\n",
       "      <55  134   45\n",
       "      >=55  98  332\n",
       "                                          \n",
       "               Accuracy : 0.7652          \n",
       "                 95% CI : (0.7295, 0.7983)\n",
       "    No Information Rate : 0.619           \n",
       "    P-Value [Acc > NIR] : 1.085e-14       \n",
       "                                          \n",
       "                  Kappa : 0.4793          \n",
       "                                          \n",
       " Mcnemar's Test P-Value : 1.371e-05       \n",
       "                                          \n",
       "            Sensitivity : 0.5776          \n",
       "            Specificity : 0.8806          \n",
       "         Pos Pred Value : 0.7486          \n",
       "         Neg Pred Value : 0.7721          \n",
       "             Prevalence : 0.3810          \n",
       "         Detection Rate : 0.2200          \n",
       "   Detection Prevalence : 0.2939          \n",
       "      Balanced Accuracy : 0.7291          \n",
       "                                          \n",
       "       'Positive' Class : <55             \n",
       "                                          "
      ]
     },
     "metadata": {},
     "output_type": "display_data"
    }
   ],
   "source": [
    "prediccion_6 <- predict(mytree2, newdata = data_train, type = \"class\")\n",
    "confusionMatrix(prediccion_6, data_train[[\"Nota.Final\"]])"
   ]
  },
  {
   "cell_type": "code",
   "execution_count": 162,
   "metadata": {},
   "outputs": [
    {
     "data": {
      "text/plain": [
       "n= 696 \n",
       "\n",
       "node), split, n, loss, yval, (yprob)\n",
       "      * denotes terminal node\n",
       "\n",
       " 1) root 696 257 >=55 (0.3692529 0.6307471)  \n",
       "   2) Inasistencias=7,8,9,10 127  42 <55 (0.6692913 0.3307087)  \n",
       "     4) Tiempo.Libre=Demasiado,Mucho,Nada,Normal 101  28 <55 (0.7227723 0.2772277) *\n",
       "     5) Tiempo.Libre=Poco 26  12 >=55 (0.4615385 0.5384615)  \n",
       "      10) Carrete=Mucho,Nada 12   3 <55 (0.7500000 0.2500000) *\n",
       "      11) Carrete=Normal,Poco 14   3 >=55 (0.2142857 0.7857143) *\n",
       "   3) Inasistencias=0,1,2,3,4,5,6 569 172 >=55 (0.3022847 0.6977153) *"
      ]
     },
     "metadata": {},
     "output_type": "display_data"
    }
   ],
   "source": [
    "#Arbol creado usando libreria rpart\n",
    "mytree3 <- rpart(\n",
    "  Nota.Final ~Sexo + Horas.Estudio.Semanal + Tiempo.Libre + Carrete + Salud + Inasistencias, \n",
    "  data = data_train, \n",
    "  method = \"class\", \n",
    ")\n",
    "mytree3 "
   ]
  },
  {
   "cell_type": "code",
   "execution_count": 164,
   "metadata": {},
   "outputs": [
    {
     "data": {
      "image/png": "[encoded data removed]",
      "text/plain": [
       "Plot with title \"\""
      ]
     },
     "metadata": {},
     "output_type": "display_data"
    }
   ],
   "source": [
    "# plot mytree2\n",
    "fancyRpartPlot(mytree3, caption = NULL)"
   ]
  },
  {
   "cell_type": "code",
   "execution_count": 165,
   "metadata": {},
   "outputs": [
    {
     "data": {
      "text/plain": [
       "Confusion Matrix and Statistics\n",
       "\n",
       "          Reference\n",
       "Prediction <55 >=55\n",
       "      <55   26    9\n",
       "      >=55  42   97\n",
       "                                          \n",
       "               Accuracy : 0.7069          \n",
       "                 95% CI : (0.6333, 0.7733)\n",
       "    No Information Rate : 0.6092          \n",
       "    P-Value [Acc > NIR] : 0.004606        \n",
       "                                          \n",
       "                  Kappa : 0.3258          \n",
       "                                          \n",
       " Mcnemar's Test P-Value : 7.433e-06       \n",
       "                                          \n",
       "            Sensitivity : 0.3824          \n",
       "            Specificity : 0.9151          \n",
       "         Pos Pred Value : 0.7429          \n",
       "         Neg Pred Value : 0.6978          \n",
       "             Prevalence : 0.3908          \n",
       "         Detection Rate : 0.1494          \n",
       "   Detection Prevalence : 0.2011          \n",
       "      Balanced Accuracy : 0.6487          \n",
       "                                          \n",
       "       'Positive' Class : <55             \n",
       "                                          "
      ]
     },
     "metadata": {},
     "output_type": "display_data"
    }
   ],
   "source": [
    "#Calculo precision de modelos.\n",
    "#Arbol con Rpart 2\n",
    "prediccion_3 <- predict(mytree3, newdata = data_test, type = \"class\")\n",
    "confusionMatrix(prediccion_3, data_test[[\"Nota.Final\"]])"
   ]
  },
  {
   "cell_type": "code",
   "execution_count": 168,
   "metadata": {},
   "outputs": [
    {
     "data": {
      "text/plain": [
       "n= 696 \n",
       "\n",
       "node), split, n, loss, yval, (yprob)\n",
       "      * denotes terminal node\n",
       "\n",
       "1) root 696 257 >=55 (0.3692529 0.6307471)  \n",
       "  2) VTR=1,2 115  30 <55 (0.7391304 0.2608696) *\n",
       "  3) VTR=0 581 172 >=55 (0.2960413 0.7039587) *"
      ]
     },
     "metadata": {},
     "output_type": "display_data"
    },
    {
     "data": {
      "image/png": "[encoded data removed]",
      "text/plain": [
       "Plot with title \"\""
      ]
     },
     "metadata": {},
     "output_type": "display_data"
    }
   ],
   "source": [
    "#Arbol creado usando libreria rpart\n",
    "mytree4 <- rpart(\n",
    "  Nota.Final ~Sexo + Horas.Estudio.Semanal +VTR+ Tiempo.Libre + Carrete + Salud, \n",
    "  data = data_train, \n",
    "  method = \"class\", \n",
    ")\n",
    "mytree4 \n",
    "# plot mytree2\n",
    "fancyRpartPlot(mytree4, caption = NULL)"
   ]
  },
  {
   "cell_type": "code",
   "execution_count": 170,
   "metadata": {},
   "outputs": [
    {
     "data": {
      "text/plain": [
       "Confusion Matrix and Statistics\n",
       "\n",
       "          Reference\n",
       "Prediction <55 >=55\n",
       "      <55   23    8\n",
       "      >=55  45   98\n",
       "                                          \n",
       "               Accuracy : 0.6954          \n",
       "                 95% CI : (0.6212, 0.7628)\n",
       "    No Information Rate : 0.6092          \n",
       "    P-Value [Acc > NIR] : 0.01126         \n",
       "                                          \n",
       "                  Kappa : 0.2912          \n",
       "                                          \n",
       " Mcnemar's Test P-Value : 7.615e-07       \n",
       "                                          \n",
       "            Sensitivity : 0.3382          \n",
       "            Specificity : 0.9245          \n",
       "         Pos Pred Value : 0.7419          \n",
       "         Neg Pred Value : 0.6853          \n",
       "             Prevalence : 0.3908          \n",
       "         Detection Rate : 0.1322          \n",
       "   Detection Prevalence : 0.1782          \n",
       "      Balanced Accuracy : 0.6314          \n",
       "                                          \n",
       "       'Positive' Class : <55             \n",
       "                                          "
      ]
     },
     "metadata": {},
     "output_type": "display_data"
    }
   ],
   "source": [
    "#Calculo precision de modelos.\n",
    "#Arbol con Rpart 2\n",
    "prediccion_4 <- predict(mytree4, newdata = data_test, type = \"class\")\n",
    "confusionMatrix(prediccion_4, data_test[[\"Nota.Final\"]])"
   ]
  },
  {
   "cell_type": "code",
   "execution_count": null,
   "metadata": {},
   "outputs": [],
   "source": []
  }
 ],
 "metadata": {
  "kernelspec": {
   "display_name": "R",
   "language": "R",
   "name": "ir"
  },
  "language_info": {
   "codemirror_mode": "r",
   "file_extension": ".r",
   "mimetype": "text/x-r-source",
   "name": "R",
   "pygments_lexer": "r",
   "version": "3.6.1"
  }
 },
 "nbformat": 4,
 "nbformat_minor": 2
}
